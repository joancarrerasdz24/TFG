{
 "cells": [
  {
   "cell_type": "code",
   "execution_count": 98,
   "id": "initial_id",
   "metadata": {
    "collapsed": true,
    "ExecuteTime": {
     "end_time": "2023-10-27T09:16:58.045055Z",
     "start_time": "2023-10-27T09:16:58.030028Z"
    }
   },
   "outputs": [],
   "source": [
    "import os\n",
    "\n",
    "import numpy as np\n",
    "import pandas as pd\n",
    "import matplotlib.pyplot as plt"
   ]
  },
  {
   "cell_type": "markdown",
   "source": [
    "Directori arrel on es troben les carpetes \"connectomes\", \"fMRI\" i \"PET_loads\"."
   ],
   "metadata": {
    "collapsed": false
   },
   "id": "cdc4ec655fe658df"
  },
  {
   "cell_type": "code",
   "execution_count": 99,
   "outputs": [],
   "source": [
    "directori_arrel = \"/Users/joancarrerasdiaz/Desktop/CARPETES/UdG/TFG/Dades_Gus\""
   ],
   "metadata": {
    "collapsed": false,
    "ExecuteTime": {
     "end_time": "2023-10-27T09:16:59.305452Z",
     "start_time": "2023-10-27T09:16:59.293452Z"
    }
   },
   "id": "f93366aceec439af"
  },
  {
   "cell_type": "markdown",
   "source": [
    "Identificació del pacient"
   ],
   "metadata": {
    "collapsed": false
   },
   "id": "4a37d0a89bda7bee"
  },
  {
   "cell_type": "code",
   "execution_count": 100,
   "outputs": [],
   "source": [
    "identificacio_pacient = \"002_S_0413\""
   ],
   "metadata": {
    "collapsed": false,
    "ExecuteTime": {
     "end_time": "2023-10-27T09:17:00.306612Z",
     "start_time": "2023-10-27T09:17:00.299335Z"
    }
   },
   "id": "3b8366252f878ace"
  },
  {
   "cell_type": "markdown",
   "source": [
    "Defineix les rutes d'accés a les carpetes rellevants"
   ],
   "metadata": {
    "collapsed": false
   },
   "id": "c2192a1ff5a258b4"
  },
  {
   "cell_type": "code",
   "execution_count": 101,
   "outputs": [],
   "source": [
    "connectomes_dir = os.path.join(directori_arrel, \"connectomes\", identificacio_pacient, \"DWI_processing\")\n",
    "fmri_dir = os.path.join(directori_arrel, \"fMRI\", identificacio_pacient, \"MNINonLinear\", \"Results\", \"Restingstate\")\n",
    "pet_loads_dir = os.path.join(directori_arrel, \"PET_loads\", identificacio_pacient, \"PET_PVC_MG\")\n"
   ],
   "metadata": {
    "collapsed": false,
    "ExecuteTime": {
     "end_time": "2023-10-27T09:17:01.331429Z",
     "start_time": "2023-10-27T09:17:01.324924Z"
    }
   },
   "id": "f82e9cb309f3edb4"
  },
  {
   "cell_type": "markdown",
   "source": [
    "Carregar dades de connectomes"
   ],
   "metadata": {
    "collapsed": false
   },
   "id": "8a6047f949e63ea5"
  },
  {
   "cell_type": "code",
   "execution_count": 217,
   "outputs": [],
   "source": [
    "connectomes_lengths_file = os.path.join(connectomes_dir, \"connectome_lengths.csv\")"
   ],
   "metadata": {
    "collapsed": false,
    "ExecuteTime": {
     "end_time": "2023-10-27T10:52:19.769285Z",
     "start_time": "2023-10-27T10:52:19.724424Z"
    }
   },
   "id": "25ef3765237751b4"
  },
  {
   "cell_type": "code",
   "execution_count": 224,
   "outputs": [],
   "source": [
    "connectomes_lengths_data = pd.read_csv(connectomes_lengths_file, header=None, delimiter=' ', dtype=float)"
   ],
   "metadata": {
    "collapsed": false,
    "ExecuteTime": {
     "end_time": "2023-10-27T11:02:10.744323Z",
     "start_time": "2023-10-27T11:02:10.678175Z"
    }
   },
   "id": "bd5c7274613c7eeb"
  },
  {
   "cell_type": "code",
   "execution_count": 225,
   "outputs": [
    {
     "name": "stdout",
     "output_type": "stream",
     "text": [
      "            0           1           2           3           4           5    \\\n",
      "0      0.000000   64.302879   29.930216   11.744897   23.153115   31.703380   \n",
      "1     64.302879    0.000000   55.495236   62.614874   56.323441   39.834786   \n",
      "2     29.930216   55.495236    0.000000   19.682165   19.256908   49.885904   \n",
      "3     11.744897   62.614874   19.682165    0.000000   16.231809   26.384196   \n",
      "4     23.153115   56.323441   19.256908   16.231809    0.000000   19.066631   \n",
      "..          ...         ...         ...         ...         ...         ...   \n",
      "374   44.722846   62.073985   63.845016   54.461424   75.912470   68.882180   \n",
      "375  106.113908   79.961745  102.475480  107.267656  111.409048  103.621492   \n",
      "376  115.560051  107.560480  128.771554  139.203304  150.063886  144.797684   \n",
      "377   99.447189   74.857275   88.781869   97.583099  101.045775   94.765337   \n",
      "378  136.090148  112.733131  123.194694  130.451987  137.549292  129.974357   \n",
      "\n",
      "            6           7           8           9    ...         369  \\\n",
      "0     43.126175  128.964280  123.875865  129.141283  ...  159.217427   \n",
      "1     29.690434  100.287742   84.678314   98.730245  ...  143.343889   \n",
      "2     61.982622  105.920840   93.144123  104.500740  ...  147.458564   \n",
      "3     42.422002  125.721637  107.737956  117.107161  ...  156.300041   \n",
      "4     33.757658  139.667296  116.081399  135.831182  ...  159.797252   \n",
      "..          ...         ...         ...         ...  ...         ...   \n",
      "374   63.809699  114.892730   98.457286  118.636037  ...  121.093134   \n",
      "375   96.099716  112.974230   97.947356  124.015896  ...   83.947755   \n",
      "376  123.851794  111.184995  109.859779   99.185430  ...   90.167302   \n",
      "377   88.755512   87.478967   80.231630   85.092518  ...   58.879199   \n",
      "378  128.747867  123.988361  113.792381  127.239580  ...   45.992697   \n",
      "\n",
      "            370         371         372         373        374         375  \\\n",
      "0     89.139759  110.602952   99.641787  107.897104  44.722846  106.113908   \n",
      "1     78.041080   84.758418   74.682361   89.464429  62.073985   79.961745   \n",
      "2     88.767943   84.884235   89.394030   97.171582  63.845016  102.475480   \n",
      "3     95.114953  103.010377   96.797285  104.049424  54.461424  107.267656   \n",
      "4    102.978108  109.572542  100.739747  109.443679  75.912470  111.409048   \n",
      "..          ...         ...         ...         ...        ...         ...   \n",
      "374   23.885211   43.614693   35.153059   39.174092   0.000000   24.270535   \n",
      "375   45.114620   53.613621   14.886757   13.563888  24.270535    0.000000   \n",
      "376   28.232267   18.393103   21.185332   18.730997  75.399627   34.127167   \n",
      "377   20.845771   34.797208   30.484692   16.799933  12.419643   26.128464   \n",
      "378   54.502219   80.899132   65.050200   56.813316  89.254641   57.777422   \n",
      "\n",
      "            376         377         378  \n",
      "0    115.560051   99.447189  136.090148  \n",
      "1    107.560480   74.857275  112.733131  \n",
      "2    128.771554   88.781869  123.194694  \n",
      "3    139.203304   97.583099  130.451987  \n",
      "4    150.063886  101.045775  137.549292  \n",
      "..          ...         ...         ...  \n",
      "374   75.399627   12.419643   89.254641  \n",
      "375   34.127167   26.128464   57.777422  \n",
      "376    0.000000   19.262691   75.245852  \n",
      "377   19.262691    0.000000   42.630020  \n",
      "378   75.245852   42.630020    0.000000  \n",
      "\n",
      "[379 rows x 379 columns]\n"
     ]
    }
   ],
   "source": [
    "print(connectomes_lengths_data)"
   ],
   "metadata": {
    "collapsed": false,
    "ExecuteTime": {
     "end_time": "2023-10-27T11:02:12.298318Z",
     "start_time": "2023-10-27T11:02:12.268653Z"
    }
   },
   "id": "2df79cd67e5806f9"
  },
  {
   "cell_type": "code",
   "execution_count": 226,
   "outputs": [],
   "source": [
    "\n",
    "connectomes_weights_file = os.path.join(connectomes_dir, \"connectome_weights.csv\")\n",
    "connectomes_weights_data = pd.read_csv(connectomes_weights_file, delimiter=' ')"
   ],
   "metadata": {
    "collapsed": false,
    "ExecuteTime": {
     "end_time": "2023-10-27T11:02:18.272039Z",
     "start_time": "2023-10-27T11:02:18.204995Z"
    }
   },
   "id": "46437f9da8ca6e48"
  },
  {
   "cell_type": "markdown",
   "source": [
    "Carregar dades de fMRI"
   ],
   "metadata": {
    "collapsed": false
   },
   "id": "ae32f3ec8c9b4e30"
  },
  {
   "cell_type": "code",
   "execution_count": 113,
   "outputs": [],
   "source": [
    "fmri_subcort_file = os.path.join(fmri_dir, \"002_S_0413_Restingstate_Atlas_MSMAll_hp2000_clean_subcort.ptseries.txt\")"
   ],
   "metadata": {
    "collapsed": false,
    "ExecuteTime": {
     "end_time": "2023-10-27T09:27:50.672268Z",
     "start_time": "2023-10-27T09:27:50.654929Z"
    }
   },
   "id": "79ad1bd3f884fad0"
  },
  {
   "cell_type": "code",
   "execution_count": 114,
   "outputs": [],
   "source": [
    "fmri_subcort_data = np.loadtxt(fmri_subcort_file, unpack=True)"
   ],
   "metadata": {
    "collapsed": false,
    "ExecuteTime": {
     "end_time": "2023-10-27T09:27:51.045050Z",
     "start_time": "2023-10-27T09:27:51.030347Z"
    }
   },
   "id": "d85f51d0746c31fb"
  },
  {
   "cell_type": "code",
   "execution_count": 115,
   "outputs": [],
   "source": [
    "n_col, n_files = fmri_subcort_data.shape"
   ],
   "metadata": {
    "collapsed": false,
    "ExecuteTime": {
     "end_time": "2023-10-27T09:27:51.395635Z",
     "start_time": "2023-10-27T09:27:51.390445Z"
    }
   },
   "id": "9b104185f32a82e3"
  },
  {
   "cell_type": "code",
   "execution_count": 116,
   "outputs": [
    {
     "name": "stdout",
     "output_type": "stream",
     "text": [
      "Número de filas: 19\n",
      "Número de columnas: 197\n"
     ]
    }
   ],
   "source": [
    "print(\"Número de filas:\", n_files)\n",
    "print(\"Número de columnas:\", n_col)"
   ],
   "metadata": {
    "collapsed": false,
    "ExecuteTime": {
     "end_time": "2023-10-27T09:27:51.812050Z",
     "start_time": "2023-10-27T09:27:51.805955Z"
    }
   },
   "id": "23613bf610c722c0"
  },
  {
   "cell_type": "code",
   "execution_count": 117,
   "outputs": [],
   "source": [
    "fmri_file = os.path.join(fmri_dir, \"002_S_0413_Restingstate_Atlas_MSMAll_hp2000_clean.ptseries.txt\")"
   ],
   "metadata": {
    "collapsed": false,
    "ExecuteTime": {
     "end_time": "2023-10-27T09:29:18.070493Z",
     "start_time": "2023-10-27T09:29:18.033531Z"
    }
   },
   "id": "f6040ff70af36d93"
  },
  {
   "cell_type": "code",
   "execution_count": 118,
   "outputs": [],
   "source": [
    "fmri_data = np.loadtxt(fmri_file, unpack=True)"
   ],
   "metadata": {
    "collapsed": false,
    "ExecuteTime": {
     "end_time": "2023-10-27T09:29:33.887167Z",
     "start_time": "2023-10-27T09:29:33.870Z"
    }
   },
   "id": "30ad236e2f11965f"
  },
  {
   "cell_type": "code",
   "execution_count": 119,
   "outputs": [],
   "source": [
    "n_col, n_files = fmri_data.shape"
   ],
   "metadata": {
    "collapsed": false,
    "ExecuteTime": {
     "end_time": "2023-10-27T09:29:49.849864Z",
     "start_time": "2023-10-27T09:29:49.832290Z"
    }
   },
   "id": "d44a3681f236281f"
  },
  {
   "cell_type": "code",
   "execution_count": 120,
   "outputs": [
    {
     "name": "stdout",
     "output_type": "stream",
     "text": [
      "Número de filas: 360\n",
      "Número de columnas: 197\n"
     ]
    }
   ],
   "source": [
    "print(\"Número de filas:\", n_files)\n",
    "print(\"Número de columnas:\", n_col)"
   ],
   "metadata": {
    "collapsed": false,
    "ExecuteTime": {
     "end_time": "2023-10-27T09:29:53.438541Z",
     "start_time": "2023-10-27T09:29:53.420479Z"
    }
   },
   "id": "e9e5e9d015850ba9"
  },
  {
   "cell_type": "markdown",
   "source": [
    "Carregar dades de PET (Amyloid)"
   ],
   "metadata": {
    "collapsed": false
   },
   "id": "3e76db8ac53f6838"
  },
  {
   "cell_type": "code",
   "execution_count": 163,
   "outputs": [],
   "source": [
    "amyloid_dir = os.path.join(pet_loads_dir, \"Amyloid\")"
   ],
   "metadata": {
    "collapsed": false,
    "ExecuteTime": {
     "end_time": "2023-10-27T09:40:27.910493Z",
     "start_time": "2023-10-27T09:40:27.875143Z"
    }
   },
   "id": "bc07292e92a00bb5"
  },
  {
   "cell_type": "code",
   "execution_count": 164,
   "outputs": [],
   "source": [
    "amyloid_subcortical_file = os.path.join(amyloid_dir, \"Amyloid_load.subcortical.txt\")"
   ],
   "metadata": {
    "collapsed": false,
    "ExecuteTime": {
     "end_time": "2023-10-27T09:40:28.090725Z",
     "start_time": "2023-10-27T09:40:28.084888Z"
    }
   },
   "id": "ee0281a1b30d988f"
  },
  {
   "cell_type": "code",
   "execution_count": 165,
   "outputs": [],
   "source": [
    "amyloid_subcortical_data = np.loadtxt(amyloid_subcortical_file, unpack=True)"
   ],
   "metadata": {
    "collapsed": false,
    "ExecuteTime": {
     "end_time": "2023-10-27T09:40:28.330069Z",
     "start_time": "2023-10-27T09:40:28.312099Z"
    }
   },
   "id": "2eeb7ac9493951ac"
  },
  {
   "cell_type": "code",
   "execution_count": 166,
   "outputs": [],
   "source": [
    "n_col = amyloid_subcortical_data.size"
   ],
   "metadata": {
    "collapsed": false,
    "ExecuteTime": {
     "end_time": "2023-10-27T09:40:28.756234Z",
     "start_time": "2023-10-27T09:40:28.750075Z"
    }
   },
   "id": "fe842e3dda248781"
  },
  {
   "cell_type": "code",
   "execution_count": 167,
   "outputs": [
    {
     "name": "stdout",
     "output_type": "stream",
     "text": [
      "Número de files: 1\n",
      "Número de columnas: 379\n"
     ]
    }
   ],
   "source": [
    "print(\"Número de files:\", 1)\n",
    "print(\"Número de columnas:\", n_col)"
   ],
   "metadata": {
    "collapsed": false,
    "ExecuteTime": {
     "end_time": "2023-10-27T09:40:29.704531Z",
     "start_time": "2023-10-27T09:40:29.698905Z"
    }
   },
   "id": "6399e9175168d12c"
  },
  {
   "cell_type": "code",
   "execution_count": 174,
   "outputs": [],
   "source": [
    "l_amyloid_file = os.path.join(amyloid_dir, \"L.Amyloid_load_MSMAll.pscalar.txt\")"
   ],
   "metadata": {
    "collapsed": false,
    "ExecuteTime": {
     "end_time": "2023-10-27T09:41:59.648763Z",
     "start_time": "2023-10-27T09:41:59.626404Z"
    }
   },
   "id": "b4c282d806c5255"
  },
  {
   "cell_type": "code",
   "execution_count": 175,
   "outputs": [],
   "source": [
    "l_amyloid_data = np.loadtxt(l_amyloid_file, unpack=True)"
   ],
   "metadata": {
    "collapsed": false,
    "ExecuteTime": {
     "end_time": "2023-10-27T09:41:59.866365Z",
     "start_time": "2023-10-27T09:41:59.845853Z"
    }
   },
   "id": "b8fe8f8e45f0e567"
  },
  {
   "cell_type": "code",
   "execution_count": 177,
   "outputs": [],
   "source": [
    "n_files=l_amyloid_data.size"
   ],
   "metadata": {
    "collapsed": false,
    "ExecuteTime": {
     "end_time": "2023-10-27T09:42:09.131154Z",
     "start_time": "2023-10-27T09:42:09.104392Z"
    }
   },
   "id": "1b266fb03f687295"
  },
  {
   "cell_type": "code",
   "execution_count": 178,
   "outputs": [
    {
     "name": "stdout",
     "output_type": "stream",
     "text": [
      "Número de files: 180\n",
      "Número de columnas: 1\n"
     ]
    }
   ],
   "source": [
    "print(\"Número de files:\", n_files)\n",
    "print(\"Número de columnas:\", 1)"
   ],
   "metadata": {
    "collapsed": false,
    "ExecuteTime": {
     "end_time": "2023-10-27T09:42:10.082624Z",
     "start_time": "2023-10-27T09:42:10.076460Z"
    }
   },
   "id": "bbb97573f457f903"
  },
  {
   "cell_type": "code",
   "execution_count": 179,
   "outputs": [],
   "source": [
    "r_amyloid_file = os.path.join(amyloid_dir, \"R.Amyloid_load_MSMAll.pscalar.txt\")"
   ],
   "metadata": {
    "collapsed": false,
    "ExecuteTime": {
     "end_time": "2023-10-27T09:43:10.954942Z",
     "start_time": "2023-10-27T09:43:10.929353Z"
    }
   },
   "id": "3fc925739253a791"
  },
  {
   "cell_type": "code",
   "execution_count": 180,
   "outputs": [],
   "source": [
    "r_amyloid_data = np.loadtxt(r_amyloid_file, unpack=True)"
   ],
   "metadata": {
    "collapsed": false,
    "ExecuteTime": {
     "end_time": "2023-10-27T09:43:39.475015Z",
     "start_time": "2023-10-27T09:43:39.452550Z"
    }
   },
   "id": "810d13e4b361bc72"
  },
  {
   "cell_type": "code",
   "execution_count": 181,
   "outputs": [],
   "source": [
    "n_files=r_amyloid_data.size"
   ],
   "metadata": {
    "collapsed": false,
    "ExecuteTime": {
     "end_time": "2023-10-27T09:44:07.266115Z",
     "start_time": "2023-10-27T09:44:07.242868Z"
    }
   },
   "id": "f921f7fd779f9732"
  },
  {
   "cell_type": "code",
   "execution_count": 182,
   "outputs": [
    {
     "name": "stdout",
     "output_type": "stream",
     "text": [
      "Número de files: 180\n",
      "Número de columnas: 1\n"
     ]
    }
   ],
   "source": [
    "print(\"Número de files:\", n_files)\n",
    "print(\"Número de columnas:\", 1)"
   ],
   "metadata": {
    "collapsed": false,
    "ExecuteTime": {
     "end_time": "2023-10-27T09:44:16.732864Z",
     "start_time": "2023-10-27T09:44:16.710697Z"
    }
   },
   "id": "36cb227efca66e03"
  },
  {
   "cell_type": "markdown",
   "source": [
    "Carregar dades de PET (Tau)"
   ],
   "metadata": {
    "collapsed": false
   },
   "id": "61c7be36d09ebaa1"
  },
  {
   "cell_type": "code",
   "execution_count": 183,
   "outputs": [],
   "source": [
    "tau_dir = os.path.join(pet_loads_dir, \"Tau\")"
   ],
   "metadata": {
    "collapsed": false,
    "ExecuteTime": {
     "end_time": "2023-10-27T09:44:56.482744Z",
     "start_time": "2023-10-27T09:44:56.460437Z"
    }
   },
   "id": "db1e29c6f5ffc7d1"
  },
  {
   "cell_type": "code",
   "execution_count": 184,
   "outputs": [],
   "source": [
    "tau_subcortical_file = os.path.join(tau_dir, \"Tau_load.subcortical.txt\")"
   ],
   "metadata": {
    "collapsed": false,
    "ExecuteTime": {
     "end_time": "2023-10-27T09:45:07.901578Z",
     "start_time": "2023-10-27T09:45:07.877831Z"
    }
   },
   "id": "731f78b0e6b2c182"
  },
  {
   "cell_type": "code",
   "execution_count": 185,
   "outputs": [],
   "source": [
    "tau_subcortical_data = np.loadtxt(tau_subcortical_file, unpack=True)"
   ],
   "metadata": {
    "collapsed": false,
    "ExecuteTime": {
     "end_time": "2023-10-27T09:47:21.688040Z",
     "start_time": "2023-10-27T09:47:21.664428Z"
    }
   },
   "id": "a44f83b78578ff05"
  },
  {
   "cell_type": "code",
   "execution_count": 199,
   "outputs": [
    {
     "name": "stdout",
     "output_type": "stream",
     "text": [
      "Número de files: 1\n",
      "Número de columnas: 379\n"
     ]
    }
   ],
   "source": [
    "n_col = tau_subcortical_data.size\n",
    "print(\"Número de files:\", 1)\n",
    "print(\"Número de columnas:\", n_col)"
   ],
   "metadata": {
    "collapsed": false,
    "ExecuteTime": {
     "end_time": "2023-10-27T09:51:58.803545Z",
     "start_time": "2023-10-27T09:51:58.780050Z"
    }
   },
   "id": "6e9101c4c43a58b7"
  },
  {
   "cell_type": "code",
   "execution_count": 200,
   "outputs": [],
   "source": [
    "l_tau_file = os.path.join(tau_dir, \"L.Tau_load_MSMAll.pscalar.txt\")"
   ],
   "metadata": {
    "collapsed": false,
    "ExecuteTime": {
     "end_time": "2023-10-27T09:52:00.413339Z",
     "start_time": "2023-10-27T09:52:00.392447Z"
    }
   },
   "id": "75b8ec0f42fb7852"
  },
  {
   "cell_type": "code",
   "execution_count": 201,
   "outputs": [],
   "source": [
    "l_tau_data = np.loadtxt(l_tau_file, unpack=True)"
   ],
   "metadata": {
    "collapsed": false,
    "ExecuteTime": {
     "end_time": "2023-10-27T09:52:00.631692Z",
     "start_time": "2023-10-27T09:52:00.610009Z"
    }
   },
   "id": "103dbb4db8c2ab95"
  },
  {
   "cell_type": "code",
   "execution_count": 202,
   "outputs": [
    {
     "name": "stdout",
     "output_type": "stream",
     "text": [
      "Número de files: 180\n",
      "Número de columnas: 1\n"
     ]
    }
   ],
   "source": [
    "n_files = l_tau_data.size\n",
    "print(\"Número de files:\", n_files)\n",
    "print(\"Número de columnas:\", 1)"
   ],
   "metadata": {
    "collapsed": false,
    "ExecuteTime": {
     "end_time": "2023-10-27T09:52:00.860928Z",
     "start_time": "2023-10-27T09:52:00.839360Z"
    }
   },
   "id": "d18b98d5e734e67"
  },
  {
   "cell_type": "code",
   "execution_count": 203,
   "outputs": [],
   "source": [
    "r_tau_file = os.path.join(tau_dir, \"R.Tau_load_MSMAll.pscalar.txt\")"
   ],
   "metadata": {
    "collapsed": false,
    "ExecuteTime": {
     "end_time": "2023-10-27T09:52:01.113543Z",
     "start_time": "2023-10-27T09:52:01.092753Z"
    }
   },
   "id": "94d8e84bcd0702fa"
  },
  {
   "cell_type": "code",
   "execution_count": 204,
   "outputs": [],
   "source": [
    "r_tau_data = np.loadtxt(r_tau_file, unpack=True)"
   ],
   "metadata": {
    "collapsed": false,
    "ExecuteTime": {
     "end_time": "2023-10-27T09:52:01.543090Z",
     "start_time": "2023-10-27T09:52:01.521554Z"
    }
   },
   "id": "5e1086ec4fe6c07b"
  },
  {
   "cell_type": "code",
   "execution_count": 205,
   "outputs": [
    {
     "name": "stdout",
     "output_type": "stream",
     "text": [
      "Número de files: 180\n",
      "Número de columnas: 1\n"
     ]
    }
   ],
   "source": [
    "n_files = l_tau_data.size\n",
    "print(\"Número de files:\", n_files)\n",
    "print(\"Número de columnas:\", 1)"
   ],
   "metadata": {
    "collapsed": false,
    "ExecuteTime": {
     "end_time": "2023-10-27T09:52:01.986090Z",
     "start_time": "2023-10-27T09:52:01.960115Z"
    }
   },
   "id": "238b3efacc9c43b6"
  },
  {
   "cell_type": "markdown",
   "source": [
    "Graficar les dades"
   ],
   "metadata": {
    "collapsed": false
   },
   "id": "6828bbb20cd72456"
  },
  {
   "cell_type": "code",
   "execution_count": 53,
   "outputs": [],
   "source": [
    "import matplotlib.pyplot as plt"
   ],
   "metadata": {
    "collapsed": false,
    "ExecuteTime": {
     "end_time": "2023-10-26T17:04:06.628034Z",
     "start_time": "2023-10-26T17:04:06.622880Z"
    }
   },
   "id": "14548aad92b5ad24"
  },
  {
   "cell_type": "markdown",
   "source": [
    "Crear un gràfic combinant les dades dels tres estudis"
   ],
   "metadata": {
    "collapsed": false
   },
   "id": "bc818c19dcbd0b9"
  },
  {
   "cell_type": "markdown",
   "source": [
    "Correlacio entre Amyloid i Tau"
   ],
   "metadata": {
    "collapsed": false
   },
   "id": "9c3b648d627c584e"
  },
  {
   "cell_type": "code",
   "execution_count": 232,
   "outputs": [],
   "source": [
    "import matplotlib.pyplot as plt"
   ],
   "metadata": {
    "collapsed": false,
    "ExecuteTime": {
     "end_time": "2023-10-27T11:12:08.479902Z",
     "start_time": "2023-10-27T11:12:08.458761Z"
    }
   },
   "id": "6ef066510318521c"
  },
  {
   "cell_type": "code",
   "execution_count": 233,
   "outputs": [],
   "source": [
    "correlacion = np.corrcoef(amyloid_subcortical_data, tau_subcortical_data)[0,1]"
   ],
   "metadata": {
    "collapsed": false,
    "ExecuteTime": {
     "end_time": "2023-10-27T11:12:09.098948Z",
     "start_time": "2023-10-27T11:12:09.076235Z"
    }
   },
   "id": "a729d1d49452cebe"
  },
  {
   "cell_type": "code",
   "execution_count": 234,
   "outputs": [
    {
     "name": "stdout",
     "output_type": "stream",
     "text": [
      "Coeficiente de correlación: 0.9480061106773218\n"
     ]
    }
   ],
   "source": [
    "print(f\"Coeficiente de correlación: {correlacion}\")"
   ],
   "metadata": {
    "collapsed": false,
    "ExecuteTime": {
     "end_time": "2023-10-27T11:12:09.708138Z",
     "start_time": "2023-10-27T11:12:09.685083Z"
    }
   },
   "id": "a9b724c4ad2c2c60"
  },
  {
   "cell_type": "code",
   "execution_count": 236,
   "outputs": [
    {
     "data": {
      "text/plain": "<Figure size 432x288 with 1 Axes>",
      "image/png": "[encoded data removed]"
     },
     "metadata": {
      "needs_background": "light"
     },
     "output_type": "display_data"
    }
   ],
   "source": [
    "plt.scatter(amyloid_subcortical_data, tau_subcortical_data, color='red', alpha=0.5)\n",
    "plt.title('Gráfico de dispersión entre los dos archivos')\n",
    "plt.xlabel('Amyloid Subcortical data')\n",
    "plt.ylabel('Tau Subcortical data')\n",
    "plt.show()"
   ],
   "metadata": {
    "collapsed": false,
    "ExecuteTime": {
     "end_time": "2023-10-27T11:13:24.616098Z",
     "start_time": "2023-10-27T11:13:24.381532Z"
    }
   },
   "id": "4105b5c95091baa4"
  },
  {
   "cell_type": "code",
   "execution_count": 237,
   "outputs": [],
   "source": [
    "correlacion = np.corrcoef(l_amyloid_data, l_tau_data)[0,1]"
   ],
   "metadata": {
    "collapsed": false,
    "ExecuteTime": {
     "end_time": "2023-10-27T11:14:41.278865Z",
     "start_time": "2023-10-27T11:14:41.259884Z"
    }
   },
   "id": "1087c0dbbd476e1"
  },
  {
   "cell_type": "code",
   "execution_count": 238,
   "outputs": [
    {
     "name": "stdout",
     "output_type": "stream",
     "text": [
      "Coeficiente de correlación: 0.512854633190685\n"
     ]
    }
   ],
   "source": [
    "print(f\"Coeficiente de correlación: {correlacion}\")"
   ],
   "metadata": {
    "collapsed": false,
    "ExecuteTime": {
     "end_time": "2023-10-27T11:15:07.775670Z",
     "start_time": "2023-10-27T11:15:07.746841Z"
    }
   },
   "id": "b6c85efabfa8a2d5"
  },
  {
   "cell_type": "code",
   "execution_count": 239,
   "outputs": [
    {
     "data": {
      "text/plain": "<Figure size 432x288 with 1 Axes>",
      "image/png": "[encoded data removed]"
     },
     "metadata": {
      "needs_background": "light"
     },
     "output_type": "display_data"
    }
   ],
   "source": [
    "plt.scatter(l_amyloid_data, l_tau_data, color='red', alpha=0.5)\n",
    "plt.title('Gráfico de dispersión entre los dos archivos')\n",
    "plt.xlabel('Amyloid L data')\n",
    "plt.ylabel('Tau L data')\n",
    "plt.show()"
   ],
   "metadata": {
    "collapsed": false,
    "ExecuteTime": {
     "end_time": "2023-10-27T11:15:56.915845Z",
     "start_time": "2023-10-27T11:15:56.718694Z"
    }
   },
   "id": "54de7f0da284b662"
  },
  {
   "cell_type": "code",
   "execution_count": 240,
   "outputs": [],
   "source": [
    "correlacion = np.corrcoef(r_amyloid_data, r_tau_data)[0,1]"
   ],
   "metadata": {
    "collapsed": false,
    "ExecuteTime": {
     "end_time": "2023-10-27T11:16:39.283176Z",
     "start_time": "2023-10-27T11:16:39.258777Z"
    }
   },
   "id": "656367e12be14434"
  },
  {
   "cell_type": "code",
   "execution_count": 241,
   "outputs": [
    {
     "name": "stdout",
     "output_type": "stream",
     "text": [
      "Coeficiente de correlación: 0.4435000201713053\n"
     ]
    }
   ],
   "source": [
    "print(f\"Coeficiente de correlación: {correlacion}\")"
   ],
   "metadata": {
    "collapsed": false,
    "ExecuteTime": {
     "end_time": "2023-10-27T11:16:54.397059Z",
     "start_time": "2023-10-27T11:16:54.373436Z"
    }
   },
   "id": "769a16c93281a38a"
  },
  {
   "cell_type": "code",
   "execution_count": 242,
   "outputs": [
    {
     "data": {
      "text/plain": "<Figure size 432x288 with 1 Axes>",
      "image/png": "[encoded data removed]"
     },
     "metadata": {
      "needs_background": "light"
     },
     "output_type": "display_data"
    }
   ],
   "source": [
    "plt.scatter(r_amyloid_data, r_tau_data, color='red', alpha=0.5)\n",
    "plt.title('Gráfico de dispersión entre los dos archivos')\n",
    "plt.xlabel('Amyloid R data')\n",
    "plt.ylabel('Tau R data')\n",
    "plt.show()"
   ],
   "metadata": {
    "collapsed": false,
    "ExecuteTime": {
     "end_time": "2023-10-27T11:17:14.562303Z",
     "start_time": "2023-10-27T11:17:14.313755Z"
    }
   },
   "id": "410b47549edfa122"
  },
  {
   "cell_type": "code",
   "execution_count": 228,
   "outputs": [
    {
     "data": {
      "text/plain": "<Figure size 432x288 with 1 Axes>",
      "image/png": "[encoded data removed]"
     },
     "metadata": {
      "needs_background": "light"
     },
     "output_type": "display_data"
    }
   ],
   "source": [
    "fig, ax = plt.subplots()"
   ],
   "metadata": {
    "collapsed": false,
    "ExecuteTime": {
     "end_time": "2023-10-27T11:02:26.595368Z",
     "start_time": "2023-10-27T11:02:26.441771Z"
    }
   },
   "id": "2757ae6ccb10f22"
  },
  {
   "cell_type": "code",
   "execution_count": 229,
   "outputs": [
    {
     "ename": "TypeError",
     "evalue": "Image data of dtype <U119 cannot be converted to float",
     "output_type": "error",
     "traceback": [
      "\u001B[0;31m---------------------------------------------------------------------------\u001B[0m",
      "\u001B[0;31mTypeError\u001B[0m                                 Traceback (most recent call last)",
      "\u001B[0;32m<ipython-input-229-e737d8a54f07>\u001B[0m in \u001B[0;36m<module>\u001B[0;34m\u001B[0m\n\u001B[0;32m----> 1\u001B[0;31m \u001B[0mheatmap\u001B[0m \u001B[0;34m=\u001B[0m \u001B[0max\u001B[0m\u001B[0;34m.\u001B[0m\u001B[0mimshow\u001B[0m\u001B[0;34m(\u001B[0m\u001B[0mconnectomes_lengths_file\u001B[0m\u001B[0;34m,\u001B[0m \u001B[0mcmap\u001B[0m\u001B[0;34m=\u001B[0m\u001B[0;34m'viridis'\u001B[0m\u001B[0;34m)\u001B[0m\u001B[0;34m\u001B[0m\u001B[0;34m\u001B[0m\u001B[0m\n\u001B[0m",
      "\u001B[0;32m~/.pyenv/versions/3.9.1/lib/python3.9/site-packages/matplotlib/__init__.py\u001B[0m in \u001B[0;36minner\u001B[0;34m(ax, data, *args, **kwargs)\u001B[0m\n\u001B[1;32m   1463\u001B[0m     \u001B[0;32mdef\u001B[0m \u001B[0minner\u001B[0m\u001B[0;34m(\u001B[0m\u001B[0max\u001B[0m\u001B[0;34m,\u001B[0m \u001B[0;34m*\u001B[0m\u001B[0margs\u001B[0m\u001B[0;34m,\u001B[0m \u001B[0mdata\u001B[0m\u001B[0;34m=\u001B[0m\u001B[0;32mNone\u001B[0m\u001B[0;34m,\u001B[0m \u001B[0;34m**\u001B[0m\u001B[0mkwargs\u001B[0m\u001B[0;34m)\u001B[0m\u001B[0;34m:\u001B[0m\u001B[0;34m\u001B[0m\u001B[0;34m\u001B[0m\u001B[0m\n\u001B[1;32m   1464\u001B[0m         \u001B[0;32mif\u001B[0m \u001B[0mdata\u001B[0m \u001B[0;32mis\u001B[0m \u001B[0;32mNone\u001B[0m\u001B[0;34m:\u001B[0m\u001B[0;34m\u001B[0m\u001B[0;34m\u001B[0m\u001B[0m\n\u001B[0;32m-> 1465\u001B[0;31m             \u001B[0;32mreturn\u001B[0m \u001B[0mfunc\u001B[0m\u001B[0;34m(\u001B[0m\u001B[0max\u001B[0m\u001B[0;34m,\u001B[0m \u001B[0;34m*\u001B[0m\u001B[0mmap\u001B[0m\u001B[0;34m(\u001B[0m\u001B[0msanitize_sequence\u001B[0m\u001B[0;34m,\u001B[0m \u001B[0margs\u001B[0m\u001B[0;34m)\u001B[0m\u001B[0;34m,\u001B[0m \u001B[0;34m**\u001B[0m\u001B[0mkwargs\u001B[0m\u001B[0;34m)\u001B[0m\u001B[0;34m\u001B[0m\u001B[0;34m\u001B[0m\u001B[0m\n\u001B[0m\u001B[1;32m   1466\u001B[0m \u001B[0;34m\u001B[0m\u001B[0m\n\u001B[1;32m   1467\u001B[0m         \u001B[0mbound\u001B[0m \u001B[0;34m=\u001B[0m \u001B[0mnew_sig\u001B[0m\u001B[0;34m.\u001B[0m\u001B[0mbind\u001B[0m\u001B[0;34m(\u001B[0m\u001B[0max\u001B[0m\u001B[0;34m,\u001B[0m \u001B[0;34m*\u001B[0m\u001B[0margs\u001B[0m\u001B[0;34m,\u001B[0m \u001B[0;34m**\u001B[0m\u001B[0mkwargs\u001B[0m\u001B[0;34m)\u001B[0m\u001B[0;34m\u001B[0m\u001B[0;34m\u001B[0m\u001B[0m\n",
      "\u001B[0;32m~/.pyenv/versions/3.9.1/lib/python3.9/site-packages/matplotlib/axes/_axes.py\u001B[0m in \u001B[0;36mimshow\u001B[0;34m(self, X, cmap, norm, aspect, interpolation, alpha, vmin, vmax, origin, extent, interpolation_stage, filternorm, filterrad, resample, url, **kwargs)\u001B[0m\n\u001B[1;32m   5749\u001B[0m             \u001B[0mself\u001B[0m\u001B[0;34m.\u001B[0m\u001B[0mset_aspect\u001B[0m\u001B[0;34m(\u001B[0m\u001B[0maspect\u001B[0m\u001B[0;34m)\u001B[0m\u001B[0;34m\u001B[0m\u001B[0;34m\u001B[0m\u001B[0m\n\u001B[1;32m   5750\u001B[0m \u001B[0;34m\u001B[0m\u001B[0m\n\u001B[0;32m-> 5751\u001B[0;31m         \u001B[0mim\u001B[0m\u001B[0;34m.\u001B[0m\u001B[0mset_data\u001B[0m\u001B[0;34m(\u001B[0m\u001B[0mX\u001B[0m\u001B[0;34m)\u001B[0m\u001B[0;34m\u001B[0m\u001B[0;34m\u001B[0m\u001B[0m\n\u001B[0m\u001B[1;32m   5752\u001B[0m         \u001B[0mim\u001B[0m\u001B[0;34m.\u001B[0m\u001B[0mset_alpha\u001B[0m\u001B[0;34m(\u001B[0m\u001B[0malpha\u001B[0m\u001B[0;34m)\u001B[0m\u001B[0;34m\u001B[0m\u001B[0;34m\u001B[0m\u001B[0m\n\u001B[1;32m   5753\u001B[0m         \u001B[0;32mif\u001B[0m \u001B[0mim\u001B[0m\u001B[0;34m.\u001B[0m\u001B[0mget_clip_path\u001B[0m\u001B[0;34m(\u001B[0m\u001B[0;34m)\u001B[0m \u001B[0;32mis\u001B[0m \u001B[0;32mNone\u001B[0m\u001B[0;34m:\u001B[0m\u001B[0;34m\u001B[0m\u001B[0;34m\u001B[0m\u001B[0m\n",
      "\u001B[0;32m~/.pyenv/versions/3.9.1/lib/python3.9/site-packages/matplotlib/image.py\u001B[0m in \u001B[0;36mset_data\u001B[0;34m(self, A)\u001B[0m\n\u001B[1;32m    721\u001B[0m         \u001B[0;32mif\u001B[0m \u001B[0misinstance\u001B[0m\u001B[0;34m(\u001B[0m\u001B[0mA\u001B[0m\u001B[0;34m,\u001B[0m \u001B[0mPIL\u001B[0m\u001B[0;34m.\u001B[0m\u001B[0mImage\u001B[0m\u001B[0;34m.\u001B[0m\u001B[0mImage\u001B[0m\u001B[0;34m)\u001B[0m\u001B[0;34m:\u001B[0m\u001B[0;34m\u001B[0m\u001B[0;34m\u001B[0m\u001B[0m\n\u001B[1;32m    722\u001B[0m             \u001B[0mA\u001B[0m \u001B[0;34m=\u001B[0m \u001B[0mpil_to_array\u001B[0m\u001B[0;34m(\u001B[0m\u001B[0mA\u001B[0m\u001B[0;34m)\u001B[0m  \u001B[0;31m# Needed e.g. to apply png palette.\u001B[0m\u001B[0;34m\u001B[0m\u001B[0;34m\u001B[0m\u001B[0m\n\u001B[0;32m--> 723\u001B[0;31m         \u001B[0mself\u001B[0m\u001B[0;34m.\u001B[0m\u001B[0m_A\u001B[0m \u001B[0;34m=\u001B[0m \u001B[0mself\u001B[0m\u001B[0;34m.\u001B[0m\u001B[0m_normalize_image_array\u001B[0m\u001B[0;34m(\u001B[0m\u001B[0mA\u001B[0m\u001B[0;34m)\u001B[0m\u001B[0;34m\u001B[0m\u001B[0;34m\u001B[0m\u001B[0m\n\u001B[0m\u001B[1;32m    724\u001B[0m         \u001B[0mself\u001B[0m\u001B[0;34m.\u001B[0m\u001B[0m_imcache\u001B[0m \u001B[0;34m=\u001B[0m \u001B[0;32mNone\u001B[0m\u001B[0;34m\u001B[0m\u001B[0;34m\u001B[0m\u001B[0m\n\u001B[1;32m    725\u001B[0m         \u001B[0mself\u001B[0m\u001B[0;34m.\u001B[0m\u001B[0mstale\u001B[0m \u001B[0;34m=\u001B[0m \u001B[0;32mTrue\u001B[0m\u001B[0;34m\u001B[0m\u001B[0;34m\u001B[0m\u001B[0m\n",
      "\u001B[0;32m~/.pyenv/versions/3.9.1/lib/python3.9/site-packages/matplotlib/image.py\u001B[0m in \u001B[0;36m_normalize_image_array\u001B[0;34m(A)\u001B[0m\n\u001B[1;32m    686\u001B[0m         \u001B[0mA\u001B[0m \u001B[0;34m=\u001B[0m \u001B[0mcbook\u001B[0m\u001B[0;34m.\u001B[0m\u001B[0msafe_masked_invalid\u001B[0m\u001B[0;34m(\u001B[0m\u001B[0mA\u001B[0m\u001B[0;34m,\u001B[0m \u001B[0mcopy\u001B[0m\u001B[0;34m=\u001B[0m\u001B[0;32mTrue\u001B[0m\u001B[0;34m)\u001B[0m\u001B[0;34m\u001B[0m\u001B[0;34m\u001B[0m\u001B[0m\n\u001B[1;32m    687\u001B[0m         \u001B[0;32mif\u001B[0m \u001B[0mA\u001B[0m\u001B[0;34m.\u001B[0m\u001B[0mdtype\u001B[0m \u001B[0;34m!=\u001B[0m \u001B[0mnp\u001B[0m\u001B[0;34m.\u001B[0m\u001B[0muint8\u001B[0m \u001B[0;32mand\u001B[0m \u001B[0;32mnot\u001B[0m \u001B[0mnp\u001B[0m\u001B[0;34m.\u001B[0m\u001B[0mcan_cast\u001B[0m\u001B[0;34m(\u001B[0m\u001B[0mA\u001B[0m\u001B[0;34m.\u001B[0m\u001B[0mdtype\u001B[0m\u001B[0;34m,\u001B[0m \u001B[0mfloat\u001B[0m\u001B[0;34m,\u001B[0m \u001B[0;34m\"same_kind\"\u001B[0m\u001B[0;34m)\u001B[0m\u001B[0;34m:\u001B[0m\u001B[0;34m\u001B[0m\u001B[0;34m\u001B[0m\u001B[0m\n\u001B[0;32m--> 688\u001B[0;31m             raise TypeError(f\"Image data of dtype {A.dtype} cannot be \"\n\u001B[0m\u001B[1;32m    689\u001B[0m                             f\"converted to float\")\n\u001B[1;32m    690\u001B[0m         \u001B[0;32mif\u001B[0m \u001B[0mA\u001B[0m\u001B[0;34m.\u001B[0m\u001B[0mndim\u001B[0m \u001B[0;34m==\u001B[0m \u001B[0;36m3\u001B[0m \u001B[0;32mand\u001B[0m \u001B[0mA\u001B[0m\u001B[0;34m.\u001B[0m\u001B[0mshape\u001B[0m\u001B[0;34m[\u001B[0m\u001B[0;34m-\u001B[0m\u001B[0;36m1\u001B[0m\u001B[0;34m]\u001B[0m \u001B[0;34m==\u001B[0m \u001B[0;36m1\u001B[0m\u001B[0;34m:\u001B[0m\u001B[0;34m\u001B[0m\u001B[0;34m\u001B[0m\u001B[0m\n",
      "\u001B[0;31mTypeError\u001B[0m: Image data of dtype <U119 cannot be converted to float"
     ]
    }
   ],
   "source": [
    "heatmap = ax.imshow(connectomes_lengths_file, cmap='viridis')"
   ],
   "metadata": {
    "collapsed": false,
    "ExecuteTime": {
     "end_time": "2023-10-27T11:02:28.272482Z",
     "start_time": "2023-10-27T11:02:28.251759Z"
    }
   },
   "id": "d3d57418344a814a"
  },
  {
   "cell_type": "code",
   "execution_count": 24,
   "outputs": [],
   "source": [
    "signal = connectomes_lengths_data"
   ],
   "metadata": {
    "collapsed": false,
    "ExecuteTime": {
     "end_time": "2023-10-26T16:42:00.307998Z",
     "start_time": "2023-10-26T16:42:00.301183Z"
    }
   },
   "id": "fece2bfc8b899a48"
  },
  {
   "cell_type": "code",
   "execution_count": 25,
   "outputs": [
    {
     "ename": "ValueError",
     "evalue": "could not convert string to float: '64.30287931662937 0 55.49523604655749 62.61487401500987 56.32344111445612 39.8347862346859 29.69043433303302 100.2877419135844 84.67831419983776 98.730245310131 100.9352811547356 100.3448775874056 57.42616954556556 70.17053479607021 68.30348024933819 53.38849692840837 46.68281460558424 30.22251463888007 36.1163846866993 23.02024615758356 27.15920858021788 28.32191372109362 14.35053817194906 67.2892167031702 70.0405541274767 133.4915139021675 85.15003552230115 58.2211938073663 85.68540290895125 72.13715683129936 60.91964487364108 89.34558734447627 65.03919070997834 72.85683787983962 64.43641784351378 118.8622036737191 86.18529778562517 88.43131615298267 97.75198397146983 103.0086585997375 112.1056303031774 90.87976694844163 114.2796117147155 120.0410915617838 94.28710638824823 77.92658628694707 81.0772836005324 60.43825731159459 73.12324678660298 53.47888219023493 90.19442580712531 80.81438281639667 86.87037627243998 99.53334487190283 113.5174472454201 107.3089046476113 110.054404921127 121.9053908245191 114.268310504318 115.9437591445135 132.0378963245128 157.1462348026499 134.4327861178205 135.3891755430866 150.6304634115802 117.232717620151 113.8511584875444 120.500036516434 152.1458568665042 151.5455541010051 158.9522088925544 161.5559414816587 112.4417743060303 127.8985888399002 138.0716428950568 130.5389983797857 153.1523457443006 111.6601747998132 104.1981188252187 98.58868271786955 119.8829997936713 131.0973310945314 131.2429444904815 129.3822028440872 149.7368389167627 151.5080417178869 152.4601910417646 164.2877522290519 164.6973513423787 171.7718696574538 133.3409268343234 111.121394501066 125.9621481662039 109.3934313391676 57.04511454759005 107.2697671883645 109.7994160393879 127.0828680699265 108.8259118957653 92.2785750637709 73.90707292212382 76.18029891651626 61.81594420602622 70.89419828033543 73.97048626759656 86.85956488364941 83.59412536160936 116.8429360714937 103.6749480853343 85.04956654886465 104.0201875004936 90.33858307418271 115.7105595958907 101.7521562609793 100.3850134704124 81.31823621497605 65.80972050049486 89.0947199953134 70.10552119912262 83.10001197317324 63.75002363992673 83.01725588346304 94.77301707166991 76.76767387838376 73.4834015486316 65.72826025217297 36.47563657808688 75.38457033883965 53.68833826650403 55.70712742690539 87.53635955041544 81.80081688910748 38.15426910331125 67.46636006222013 52.75116358719244 30.79016432339434 26.72759405133877 16.94928201734354 46.93991332711028 18.27225951280787 23.79648500247941 62.7576854112145 37.35802328787194 64.83767567106185 56.75382630897852 39.25372175229861 90.71356635896156 75.09382366055161 66.18587366744123 40.72780750916783 47.84281160597838 63.256106790206 58.88167323759129 31.71260820788026 46.8750160832719 17.40833644649777 15.54046063243399 33.42050418243772 13.80785403935344 36.40854953692188 73.19457602515097 78.23910690230012 30.67418442855179 117.262321472168 122.38318246593 99.94911446073442 67.2492656648997 92.25671700224025 123.0687008089358 159.5616665436224 142.2651852461348 82.56593097706565 71.94692615932716 72.12815079100315 80.62833367268887 72.30253869467734 64.99103882525287 76.2625185453295 136.3569544859439 138.1715978101642 141.5030668109289 135.9307460479499 133.6686588311591 142.4670879999021 151.6452518828008 146.7936745721574 139.341368621348 153.3497057209196 157.1254721443257 165.085426505276 204.6309449554581 178.351026438317 151.0133248451396 93.34370258397816 125.5431389852968 139.7788997382336 125.7745304808186 143.746464649457 139.168991077495 140.0315349786489 136.9169195317731 147.7986810496223 0 132.1207923322537 148.9646039464409 179.1431015978422 125.2432700761267 157.5828129018142 136.9492623829511 126.4398854775175 109.1069134825677 138.0631917003868 107.6318152670853 119.975732301111 113.920320819444 126.7621007521755 127.8758807662351 121.5997097705432 153.0036651838683 151.6312915216954 168.9487083114002 127.5985018541714 153.0170662542511 164.9781312523473 126.2477834563318 131.6477892972735 132.5803059080951 133.5245536624881 135.1262520169562 119.6564587434174 193.2792053222656 136.0824370322836 140.3722430506313 152.9430867805478 154.7465587211207 174.9783781511251 145.3237915039062 140.5732344697287 0 144.236083984375 154.0513916015625 0 179.2157747302765 0 0 0 175.520772768853 172.8533501038332 211.2127532958984 180.3100398627954 189.7025269074091 193.0338060105113 175.6375474666343 170.9604392440582 0 177.5492706298828 191.6407652603592 222.4281172919567 156.7575073242188 194.0334320068359 178.2148115765501 196.9568479973694 181.4766903663979 188.7182784664527 0 183.8132778376672 186.5915123035989 0 190.739019907012 240.9509735107422 0 207.9549713134766 224.9627532958984 210.3234405517578 127.2648056863695 156.3174332748403 182.118482065499 175.3948315213148 0 147.4947611577453 172.3866225621719 152.1882360587409 160.7816921174154 141.7997744506162 130.6283640332265 219.3514229998829 192.7224705187175 151.9932098388672 0 178.4507531186847 230.5802459716797 180.1592670019946 0 159.7122544649224 150.9181704845682 156.3443202961622 122.7716155585697 0 95.72840096361406 0 115.3933980837727 160.0581053677549 186.1268612100793 159.1207114508053 151.5837537175924 114.3503341777567 141.3092949226301 171.368998960309 144.3367731502136 159.7692256302503 195.1574780629702 179.4997529776616 150.8307479261499 174.2221619200278 160.16996177166 159.0127701151686 152.7138710922608 139.1331697927231 138.7293780357338 145.8226466237801 133.8805783997266 117.8202651465532 137.593348476725 120.2305392649189 126.4200432122849 131.0213890537266 159.1151337701171 147.6979185085842 138.0827664050155 131.4056060843173 132.1875773297159 136.4304583261402 139.2287742667424 152.2679794099175 123.5981890340847 137.5828052767902 134.4606507545878 145.8608491322818 131.037572969841 133.4273041990332 109.2037954602318 104.9745294167444 134.442295438664 159.6212672518976 0 0 156.4096726451735 0 0 0 220.5845292414615 196.0679664710365 134.3018803905977 133.4123742608605 157.9164931113308 169.4364753583745 172.5941637216826 159.1465464312915 153.5686573868691 0 157.7772746375187 145.1213029004682 148.9891590088895 159.2588495680051 154.6916433394794 110.1845168969791 171.7167980104103 0 162.0450093562404 143.3438887105616 78.04107991306142 84.75841758627473 74.68236057193681 89.46442923884595 62.07398515148891 79.96174517362169 107.5604804287576 74.85727480275052 112.7331306684665'",
     "output_type": "error",
     "traceback": [
      "\u001B[0;31m---------------------------------------------------------------------------\u001B[0m",
      "\u001B[0;31mValueError\u001B[0m                                Traceback (most recent call last)",
      "\u001B[0;32m<ipython-input-25-841dcf05d7ba>\u001B[0m in \u001B[0;36m<module>\u001B[0;34m\u001B[0m\n\u001B[0;32m----> 1\u001B[0;31m \u001B[0mdetrended_signal\u001B[0m \u001B[0;34m=\u001B[0m \u001B[0mdetrend\u001B[0m\u001B[0;34m(\u001B[0m\u001B[0msignal\u001B[0m\u001B[0;34m)\u001B[0m\u001B[0;34m\u001B[0m\u001B[0;34m\u001B[0m\u001B[0m\n\u001B[0m",
      "\u001B[0;32m~/.pyenv/versions/3.9.1/lib/python3.9/site-packages/scipy/signal/_signaltools.py\u001B[0m in \u001B[0;36mdetrend\u001B[0;34m(data, axis, type, bp, overwrite_data)\u001B[0m\n\u001B[1;32m   3578\u001B[0m             \u001B[0mnewdata\u001B[0m \u001B[0;34m=\u001B[0m \u001B[0mnewdata\u001B[0m\u001B[0;34m.\u001B[0m\u001B[0mcopy\u001B[0m\u001B[0;34m(\u001B[0m\u001B[0;34m)\u001B[0m  \u001B[0;31m# make sure we have a copy\u001B[0m\u001B[0;34m\u001B[0m\u001B[0;34m\u001B[0m\u001B[0m\n\u001B[1;32m   3579\u001B[0m         \u001B[0;32mif\u001B[0m \u001B[0mnewdata\u001B[0m\u001B[0;34m.\u001B[0m\u001B[0mdtype\u001B[0m\u001B[0;34m.\u001B[0m\u001B[0mchar\u001B[0m \u001B[0;32mnot\u001B[0m \u001B[0;32min\u001B[0m \u001B[0;34m'dfDF'\u001B[0m\u001B[0;34m:\u001B[0m\u001B[0;34m\u001B[0m\u001B[0;34m\u001B[0m\u001B[0m\n\u001B[0;32m-> 3580\u001B[0;31m             \u001B[0mnewdata\u001B[0m \u001B[0;34m=\u001B[0m \u001B[0mnewdata\u001B[0m\u001B[0;34m.\u001B[0m\u001B[0mastype\u001B[0m\u001B[0;34m(\u001B[0m\u001B[0mdtype\u001B[0m\u001B[0;34m)\u001B[0m\u001B[0;34m\u001B[0m\u001B[0;34m\u001B[0m\u001B[0m\n\u001B[0m\u001B[1;32m   3581\u001B[0m \u001B[0;34m\u001B[0m\u001B[0m\n\u001B[1;32m   3582\u001B[0m \u001B[0;31m#        Nreg = len(bp) - 1\u001B[0m\u001B[0;34m\u001B[0m\u001B[0;34m\u001B[0m\u001B[0;34m\u001B[0m\u001B[0m\n",
      "\u001B[0;31mValueError\u001B[0m: could not convert string to float: '64.30287931662937 0 55.49523604655749 62.61487401500987 56.32344111445612 39.8347862346859 29.69043433303302 100.2877419135844 84.67831419983776 98.730245310131 100.9352811547356 100.3448775874056 57.42616954556556 70.17053479607021 68.30348024933819 53.38849692840837 46.68281460558424 30.22251463888007 36.1163846866993 23.02024615758356 27.15920858021788 28.32191372109362 14.35053817194906 67.2892167031702 70.0405541274767 133.4915139021675 85.15003552230115 58.2211938073663 85.68540290895125 72.13715683129936 60.91964487364108 89.34558734447627 65.03919070997834 72.85683787983962 64.43641784351378 118.8622036737191 86.18529778562517 88.43131615298267 97.75198397146983 103.0086585997375 112.1056303031774 90.87976694844163 114.2796117147155 120.0410915617838 94.28710638824823 77.92658628694707 81.0772836005324 60.43825731159459 73.12324678660298 53.47888219023493 90.19442580712531 80.81438281639667 86.87037627243998 99.53334487190283 113.5174472454201 107.3089046476113 110.054404921127 121.9053908245191 114.268310504318 115.9437591445135 132.0378963245128 157.1462348026499 134.4327861178205 135.3891755430866 150.6304634115802 117.232717620151 113.8511584875444 120.500036516434 152.1458568665042 151.5455541010051 158.9522088925544 161.5559414816587 112.4417743060303 127.8985888399002 138.0716428950568 130.5389983797857 153.1523457443006 111.6601747998132 104.1981188252187 98.58868271786955 119.8829997936713 131.0973310945314 131.2429444904815 129.3822028440872 149.7368389167627 151.5080417178869 152.4601910417646 164.2877522290519 164.6973513423787 171.7718696574538 133.3409268343234 111.121394501066 125.9621481662039 109.3934313391676 57.04511454759005 107.2697671883645 109.7994160393879 127.0828680699265 108.8259118957653 92.2785750637709 73.90707292212382 76.18029891651626 61.81594420602622 70.89419828033543 73.97048626759656 86.85956488364941 83.59412536160936 116.8429360714937 103.6749480853343 85.04956654886465 104.0201875004936 90.33858307418271 115.7105595958907 101.7521562609793 100.3850134704124 81.31823621497605 65.80972050049486 89.0947199953134 70.10552119912262 83.10001197317324 63.75002363992673 83.01725588346304 94.77301707166991 76.76767387838376 73.4834015486316 65.72826025217297 36.47563657808688 75.38457033883965 53.68833826650403 55.70712742690539 87.53635955041544 81.80081688910748 38.15426910331125 67.46636006222013 52.75116358719244 30.79016432339434 26.72759405133877 16.94928201734354 46.93991332711028 18.27225951280787 23.79648500247941 62.7576854112145 37.35802328787194 64.83767567106185 56.75382630897852 39.25372175229861 90.71356635896156 75.09382366055161 66.18587366744123 40.72780750916783 47.84281160597838 63.256106790206 58.88167323759129 31.71260820788026 46.8750160832719 17.40833644649777 15.54046063243399 33.42050418243772 13.80785403935344 36.40854953692188 73.19457602515097 78.23910690230012 30.67418442855179 117.262321472168 122.38318246593 99.94911446073442 67.2492656648997 92.25671700224025 123.0687008089358 159.5616665436224 142.2651852461348 82.56593097706565 71.94692615932716 72.12815079100315 80.62833367268887 72.30253869467734 64.99103882525287 76.2625185453295 136.3569544859439 138.1715978101642 141.5030668109289 135.9307460479499 133.6686588311591 142.4670879999021 151.6452518828008 146.7936745721574 139.341368621348 153.3497057209196 157.1254721443257 165.085426505276 204.6309449554581 178.351026438317 151.0133248451396 93.34370258397816 125.5431389852968 139.7788997382336 125.7745304808186 143.746464649457 139.168991077495 140.0315349786489 136.9169195317731 147.7986810496223 0 132.1207923322537 148.9646039464409 179.1431015978422 125.2432700761267 157.5828129018142 136.9492623829511 126.4398854775175 109.1069134825677 138.0631917003868 107.6318152670853 119.975732301111 113.920320819444 126.7621007521755 127.8758807662351 121.5997097705432 153.0036651838683 151.6312915216954 168.9487083114002 127.5985018541714 153.0170662542511 164.9781312523473 126.2477834563318 131.6477892972735 132.5803059080951 133.5245536624881 135.1262520169562 119.6564587434174 193.2792053222656 136.0824370322836 140.3722430506313 152.9430867805478 154.7465587211207 174.9783781511251 145.3237915039062 140.5732344697287 0 144.236083984375 154.0513916015625 0 179.2157747302765 0 0 0 175.520772768853 172.8533501038332 211.2127532958984 180.3100398627954 189.7025269074091 193.0338060105113 175.6375474666343 170.9604392440582 0 177.5492706298828 191.6407652603592 222.4281172919567 156.7575073242188 194.0334320068359 178.2148115765501 196.9568479973694 181.4766903663979 188.7182784664527 0 183.8132778376672 186.5915123035989 0 190.739019907012 240.9509735107422 0 207.9549713134766 224.9627532958984 210.3234405517578 127.2648056863695 156.3174332748403 182.118482065499 175.3948315213148 0 147.4947611577453 172.3866225621719 152.1882360587409 160.7816921174154 141.7997744506162 130.6283640332265 219.3514229998829 192.7224705187175 151.9932098388672 0 178.4507531186847 230.5802459716797 180.1592670019946 0 159.7122544649224 150.9181704845682 156.3443202961622 122.7716155585697 0 95.72840096361406 0 115.3933980837727 160.0581053677549 186.1268612100793 159.1207114508053 151.5837537175924 114.3503341777567 141.3092949226301 171.368998960309 144.3367731502136 159.7692256302503 195.1574780629702 179.4997529776616 150.8307479261499 174.2221619200278 160.16996177166 159.0127701151686 152.7138710922608 139.1331697927231 138.7293780357338 145.8226466237801 133.8805783997266 117.8202651465532 137.593348476725 120.2305392649189 126.4200432122849 131.0213890537266 159.1151337701171 147.6979185085842 138.0827664050155 131.4056060843173 132.1875773297159 136.4304583261402 139.2287742667424 152.2679794099175 123.5981890340847 137.5828052767902 134.4606507545878 145.8608491322818 131.037572969841 133.4273041990332 109.2037954602318 104.9745294167444 134.442295438664 159.6212672518976 0 0 156.4096726451735 0 0 0 220.5845292414615 196.0679664710365 134.3018803905977 133.4123742608605 157.9164931113308 169.4364753583745 172.5941637216826 159.1465464312915 153.5686573868691 0 157.7772746375187 145.1213029004682 148.9891590088895 159.2588495680051 154.6916433394794 110.1845168969791 171.7167980104103 0 162.0450093562404 143.3438887105616 78.04107991306142 84.75841758627473 74.68236057193681 89.46442923884595 62.07398515148891 79.96174517362169 107.5604804287576 74.85727480275052 112.7331306684665'"
     ]
    }
   ],
   "source": [
    "detrended_signal = detrend(signal)"
   ],
   "metadata": {
    "collapsed": false,
    "ExecuteTime": {
     "end_time": "2023-10-26T16:42:01.360526Z",
     "start_time": "2023-10-26T16:42:01.141548Z"
    }
   },
   "id": "1767433c335676e4"
  },
  {
   "cell_type": "code",
   "execution_count": 26,
   "outputs": [
    {
     "ename": "NameError",
     "evalue": "name 't' is not defined",
     "output_type": "error",
     "traceback": [
      "\u001B[0;31m---------------------------------------------------------------------------\u001B[0m",
      "\u001B[0;31mNameError\u001B[0m                                 Traceback (most recent call last)",
      "\u001B[0;32m<ipython-input-26-47d578583f66>\u001B[0m in \u001B[0;36m<module>\u001B[0;34m\u001B[0m\n\u001B[1;32m      1\u001B[0m \u001B[0;32mimport\u001B[0m \u001B[0mmatplotlib\u001B[0m\u001B[0;34m.\u001B[0m\u001B[0mpyplot\u001B[0m \u001B[0;32mas\u001B[0m \u001B[0mplt\u001B[0m\u001B[0;34m\u001B[0m\u001B[0;34m\u001B[0m\u001B[0m\n\u001B[1;32m      2\u001B[0m \u001B[0mplt\u001B[0m\u001B[0;34m.\u001B[0m\u001B[0mfigure\u001B[0m\u001B[0;34m(\u001B[0m\u001B[0mfigsize\u001B[0m\u001B[0;34m=\u001B[0m\u001B[0;34m(\u001B[0m\u001B[0;36m10\u001B[0m\u001B[0;34m,\u001B[0m \u001B[0;36m6\u001B[0m\u001B[0;34m)\u001B[0m\u001B[0;34m)\u001B[0m\u001B[0;34m\u001B[0m\u001B[0;34m\u001B[0m\u001B[0m\n\u001B[0;32m----> 3\u001B[0;31m \u001B[0mplt\u001B[0m\u001B[0;34m.\u001B[0m\u001B[0mplot\u001B[0m\u001B[0;34m(\u001B[0m\u001B[0mt\u001B[0m\u001B[0;34m,\u001B[0m \u001B[0msignal\u001B[0m\u001B[0;34m,\u001B[0m \u001B[0mlabel\u001B[0m\u001B[0;34m=\u001B[0m\u001B[0;34m'Señal Original'\u001B[0m\u001B[0;34m)\u001B[0m\u001B[0;34m\u001B[0m\u001B[0;34m\u001B[0m\u001B[0m\n\u001B[0m\u001B[1;32m      4\u001B[0m \u001B[0mplt\u001B[0m\u001B[0;34m.\u001B[0m\u001B[0mplot\u001B[0m\u001B[0;34m(\u001B[0m\u001B[0mt\u001B[0m\u001B[0;34m,\u001B[0m \u001B[0mdetrended_signal\u001B[0m\u001B[0;34m,\u001B[0m \u001B[0mlabel\u001B[0m\u001B[0;34m=\u001B[0m\u001B[0;34m'Señal Detrended'\u001B[0m\u001B[0;34m)\u001B[0m\u001B[0;34m\u001B[0m\u001B[0;34m\u001B[0m\u001B[0m\n\u001B[1;32m      5\u001B[0m \u001B[0mplt\u001B[0m\u001B[0;34m.\u001B[0m\u001B[0mlegend\u001B[0m\u001B[0;34m(\u001B[0m\u001B[0;34m)\u001B[0m\u001B[0;34m\u001B[0m\u001B[0;34m\u001B[0m\u001B[0m\n",
      "\u001B[0;31mNameError\u001B[0m: name 't' is not defined"
     ]
    },
    {
     "data": {
      "text/plain": "<Figure size 720x432 with 0 Axes>"
     },
     "metadata": {},
     "output_type": "display_data"
    }
   ],
   "source": [
    "import matplotlib.pyplot as plt\n",
    "plt.figure(figsize=(10, 6))\n",
    "plt.plot(t, signal, label='Señal Original')\n",
    "plt.plot(t, detrended_signal, label='Señal Detrended')\n",
    "plt.legend()\n",
    "plt.show()"
   ],
   "metadata": {
    "collapsed": false,
    "ExecuteTime": {
     "end_time": "2023-10-26T16:42:02.585708Z",
     "start_time": "2023-10-26T16:42:02.538890Z"
    }
   },
   "id": "b5f6c8c93f741275"
  },
  {
   "cell_type": "code",
   "execution_count": null,
   "outputs": [],
   "source": [],
   "metadata": {
    "collapsed": false
   },
   "id": "36bd56e2aa8a6ca4"
  }
 ],
 "metadata": {
  "kernelspec": {
   "display_name": "Python 3",
   "language": "python",
   "name": "python3"
  },
  "language_info": {
   "codemirror_mode": {
    "name": "ipython",
    "version": 2
   },
   "file_extension": ".py",
   "mimetype": "text/x-python",
   "name": "python",
   "nbconvert_exporter": "python",
   "pygments_lexer": "ipython2",
   "version": "2.7.6"
  }
 },
 "nbformat": 4,
 "nbformat_minor": 5
}
