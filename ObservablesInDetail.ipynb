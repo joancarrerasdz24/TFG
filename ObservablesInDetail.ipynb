{
 "cells": [
  {
   "cell_type": "code",
   "execution_count": 3,
   "id": "initial_id",
   "metadata": {
    "collapsed": true,
    "ExecuteTime": {
     "end_time": "2023-10-25T08:34:21.139985Z",
     "start_time": "2023-10-25T08:34:21.134399Z"
    }
   },
   "outputs": [],
   "source": [
    "import numpy as np\n",
    "\n",
    "\n",
    "def from_fMRI(signal,applyFilters=True,removeStrongArtefacts=True):\n",
    "    if not np.isnan(signal().any()): # No problems, go ahead!!\n",
    "        if applyFilters:\n",
    "            signal_filt = BOLDFilters.BandPassFilter(signal, removeStrongArtefacts=removeStrongArtefacts)\n",
    "            sfiltT = signal_filt.T\n",
    "        else:\n",
    "            sfiltT = signal.T\n",
    "        cc=np.corrcoef(sfiltT,rowvar=False) # Pearson correlation coefficients\n",
    "        return cc\n",
    "    else:\n",
    "        warnings.warn('############ Warning!!! FC.from_fMRI: NAN found ############')\n",
    "        return np.nan\n",
    "    \n",
    "    \n",
    "\n"
   ]
  },
  {
   "cell_type": "code",
   "execution_count": null,
   "outputs": [],
   "source": [
    "import matplotlib.pyplot as plt\n",
    "import numpy as np\n",
    "\n",
    "# Leer los datos del archivo .txt\n",
    "archivo = ''\n",
    "datos = np.loadtxt(archivo)\n",
    "\n",
    "# Crear una figura y un eje\n",
    "fig, ax = plt.subplots()\n",
    "\n",
    "# Generar un mapa de calor (heatmap) de los datos\n",
    "heatmap = ax.imshow(datos, cmap='viridis')\n",
    "\n",
    "# Agregar una barra de colores\n",
    "cbar = plt.colorbar(heatmap)\n",
    "\n",
    "# Mostrar el gráfico\n",
    "plt.show()\n"
   ],
   "metadata": {
    "collapsed": false
   },
   "id": "55e7b890ec640022"
  }
 ],
 "metadata": {
  "kernelspec": {
   "display_name": "Python 3",
   "language": "python",
   "name": "python3"
  },
  "language_info": {
   "codemirror_mode": {
    "name": "ipython",
    "version": 2
   },
   "file_extension": ".py",
   "mimetype": "text/x-python",
   "name": "python",
   "nbconvert_exporter": "python",
   "pygments_lexer": "ipython2",
   "version": "2.7.6"
  }
 },
 "nbformat": 4,
 "nbformat_minor": 5
}
